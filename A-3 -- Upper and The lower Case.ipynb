{
 "cells": [
  {
   "cell_type": "code",
   "execution_count": 11,
   "id": "44125be3",
   "metadata": {},
   "outputs": [
    {
     "name": "stdout",
     "output_type": "stream",
     "text": [
      "3 13\n"
     ]
    }
   ],
   "source": [
    "def string_check(str1):\n",
    "    dict1={\"Upper_case\": 0, \"Lower_case\": 0}\n",
    "    for x in str1:\n",
    "        if x.isupper():\n",
    "            dict1[\"Upper_case\"]+= 1\n",
    "        elif x.islower():\n",
    "            dict1[\"Lower_case\"]+= 1\n",
    "        else:\n",
    "             pass\n",
    "            \n",
    "    print(dict1[\"Upper_case\"], dict1[\"Lower_case\"])\n",
    "string_check(\"The quick Brown Fox\")\n"
   ]
  },
  {
   "cell_type": "code",
   "execution_count": null,
   "id": "f8cc6c0d",
   "metadata": {},
   "outputs": [],
   "source": []
  },
  {
   "cell_type": "code",
   "execution_count": null,
   "id": "cebd9bf3",
   "metadata": {},
   "outputs": [],
   "source": []
  }
 ],
 "metadata": {
  "kernelspec": {
   "display_name": "Python 3",
   "language": "python",
   "name": "python3"
  },
  "language_info": {
   "codemirror_mode": {
    "name": "ipython",
    "version": 3
   },
   "file_extension": ".py",
   "mimetype": "text/x-python",
   "name": "python",
   "nbconvert_exporter": "python",
   "pygments_lexer": "ipython3",
   "version": "3.8.8"
  }
 },
 "nbformat": 4,
 "nbformat_minor": 5
}
