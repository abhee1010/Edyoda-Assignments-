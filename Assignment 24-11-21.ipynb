{
 "cells": [
  {
   "cell_type": "markdown",
   "id": "3ff88983",
   "metadata": {},
   "source": [
    "# Q.1- Write a Python program to get a string made of the first 2 and the last 2 chars from a given a string. If the string length is less than 2, return instead of the empty string."
   ]
  },
  {
   "cell_type": "code",
   "execution_count": 38,
   "id": "ec28c065",
   "metadata": {},
   "outputs": [
    {
     "name": "stdout",
     "output_type": "stream",
     "text": [
      "Enter the string = diluc\n",
      "diuc\n"
     ]
    }
   ],
   "source": [
    "str = input(\"Enter the string = \")\n",
    "if len(str) < 2 :\n",
    "    print (str)\n",
    "else :\n",
    "    x =str[0:2]+str[-2:]\n",
    "    print(x)"
   ]
  },
  {
   "cell_type": "markdown",
   "id": "5cffab1b",
   "metadata": {},
   "source": [
    "# Q.2- Write a Python program to get a string from a given string where all occurrences of its first char have been changed to '$'except the first char itself."
   ]
  },
  {
   "cell_type": "code",
   "execution_count": 10,
   "id": "08aa1775",
   "metadata": {},
   "outputs": [
    {
     "name": "stdout",
     "output_type": "stream",
     "text": [
      "Enter the string = eleves\n",
      "el$v$s\n"
     ]
    }
   ],
   "source": [
    "str2 = 0\n",
    "str1 = input(\"Enter the string = \")\n",
    "\n",
    "if str1[0] in str1[1:]:\n",
    "        str2 = str1[0] + str1[1:].replace(str1[0], '$')\n",
    "        print(str2)\n",
    "else:\n",
    "        print(\"No repetition of first char in \" + str1)"
   ]
  },
  {
   "cell_type": "markdown",
   "id": "32a16480",
   "metadata": {},
   "source": [
    "# Q.3- Write a Python program to get a single string from two given strings,separated by a space and swap the first two characters of each string."
   ]
  },
  {
   "cell_type": "code",
   "execution_count": 36,
   "id": "fd83b0de",
   "metadata": {},
   "outputs": [
    {
     "name": "stdout",
     "output_type": "stream",
     "text": [
      "Enter the first string = Keqing\n",
      "Enter the second string = Raiden\n",
      "Raqing Keiden\n"
     ]
    }
   ],
   "source": [
    "str1 = input(\"Enter the first string = \")\n",
    "str2 = input(\"Enter the second string = \")\n",
    "x= str1[0:2]\n",
    "str1= str1.replace(str1[0:2],str2[0:2])\n",
    "str2= str2.replace(str2[0:2],x)\n",
    "\n",
    "print(str1+' '+str2)\n",
    "\n",
    "\n"
   ]
  },
  {
   "cell_type": "code",
   "execution_count": null,
   "id": "1bf5f992",
   "metadata": {},
   "outputs": [],
   "source": [
    "#Q4- Write a Python program to add 'ing' at the end of a given string (length should be at least 3).\n",
    "If the given string already ends with 'ing' then add 'ly' instead.\n",
    "If the string length of the given string is less than 3, leave it"
   ]
  },
  {
   "cell_type": "code",
   "execution_count": null,
   "id": "5c29e2b4",
   "metadata": {},
   "outputs": [],
   "source": [
    "str1 = input(\"Enter the string = \")\n",
    "length = len(str1)\n",
    "\n",
    "if length > 3:\n",
    "    if str1[-3:] == 'ing':\n",
    "        str1 += 'ly'\n",
    "    else:\n",
    "        str1 += 'ing'\n",
    "else: print(\"ok\")\n",
    "\n",
    "    \n"
   ]
  },
  {
   "cell_type": "code",
   "execution_count": null,
   "id": "c71af3c1",
   "metadata": {},
   "outputs": [],
   "source": []
  }
 ],
 "metadata": {
  "kernelspec": {
   "display_name": "Python 3",
   "language": "python",
   "name": "python3"
  },
  "language_info": {
   "codemirror_mode": {
    "name": "ipython",
    "version": 3
   },
   "file_extension": ".py",
   "mimetype": "text/x-python",
   "name": "python",
   "nbconvert_exporter": "python",
   "pygments_lexer": "ipython3",
   "version": "3.8.8"
  }
 },
 "nbformat": 4,
 "nbformat_minor": 5
}
