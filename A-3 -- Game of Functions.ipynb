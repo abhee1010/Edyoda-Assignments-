{
 "cells": [
  {
   "cell_type": "code",
   "execution_count": 6,
   "id": "5b4b3942",
   "metadata": {},
   "outputs": [
    {
     "name": "stdout",
     "output_type": "stream",
     "text": [
      "20\n"
     ]
    }
   ],
   "source": [
    "def sum1(numbers):\n",
    "    total_sum=0\n",
    "    for x in numbers:\n",
    "        total_sum+= x\n",
    "    return total_sum\n",
    "\n",
    "print(sum1((8,2,3,0,7)))"
   ]
  },
  {
   "cell_type": "code",
   "execution_count": null,
   "id": "9ac8618c",
   "metadata": {},
   "outputs": [],
   "source": []
  }
 ],
 "metadata": {
  "kernelspec": {
   "display_name": "Python 3",
   "language": "python",
   "name": "python3"
  },
  "language_info": {
   "codemirror_mode": {
    "name": "ipython",
    "version": 3
   },
   "file_extension": ".py",
   "mimetype": "text/x-python",
   "name": "python",
   "nbconvert_exporter": "python",
   "pygments_lexer": "ipython3",
   "version": "3.8.8"
  }
 },
 "nbformat": 4,
 "nbformat_minor": 5
}
