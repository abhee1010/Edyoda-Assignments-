{
 "cells": [
  {
   "cell_type": "markdown",
   "id": "9dffd9ef",
   "metadata": {},
   "source": [
    "Q1. Write a program to find all pairs of an integer array whose sum is equal to a given number? "
   ]
  },
  {
   "cell_type": "code",
   "execution_count": 2,
   "id": "5381022f",
   "metadata": {},
   "outputs": [
    {
     "name": "stdout",
     "output_type": "stream",
     "text": [
      "Pairs possible:  2\n"
     ]
    }
   ],
   "source": [
    "def CountPairs(arr, n, sum):\n",
    " \n",
    "    count = 0 \n",
    "    \n",
    "    for i in range(0, n):\n",
    "        for j in range(i + 1, n):\n",
    "            if arr[i] + arr[j] == sum:\n",
    "                count += 1\n",
    " \n",
    "    return count\n",
    "\n",
    "arr = [1,2,4,-3,5,-2]\n",
    "n = len(arr)\n",
    "sum = 6\n",
    "print(\"Pairs possible: \",\n",
    "      CountPairs(arr, n, sum))"
   ]
  },
  {
   "cell_type": "markdown",
   "id": "a38818be",
   "metadata": {},
   "source": [
    "Q2. Write a program to reverse an array in place? In place means you cannot create a new array. You have to update the original array. "
   ]
  },
  {
   "cell_type": "code",
   "execution_count": 1,
   "id": "504dd223",
   "metadata": {},
   "outputs": [
    {
     "name": "stdout",
     "output_type": "stream",
     "text": [
      "[1, 2, 3, 4, 5, 6]\n",
      "Reversed list: \n",
      "[6, 5, 4, 3, 2, 1]\n"
     ]
    }
   ],
   "source": [
    "def reverse(A):\n",
    "    print( A[::-1])\n",
    "\n",
    "A = [1, 2, 3, 4, 5, 6]\n",
    "print(A)\n",
    "print(\"Reversed list: \")\n",
    "reverse(A) "
   ]
  },
  {
   "cell_type": "markdown",
   "id": "bf35dcbd",
   "metadata": {},
   "source": [
    "Q3. Write a program to check if two strings are a rotation of each other?"
   ]
  },
  {
   "cell_type": "code",
   "execution_count": 5,
   "id": "a41ec1b7",
   "metadata": {},
   "outputs": [
    {
     "name": "stdout",
     "output_type": "stream",
     "text": [
      "Enter the first string: HELLO\n",
      "Enter the second string: LOHEL\n",
      "Given Strings are rotations of each other.\n"
     ]
    }
   ],
   "source": [
    "def checkRotation(s1, s2): \n",
    "    temp = '' \n",
    "  \n",
    "   \n",
    "    if len(s1) != len(s2): \n",
    "        return False\n",
    "  \n",
    "   \n",
    "    temp = s1 + s1 \n",
    "  \n",
    "    \n",
    "    if s2 in temp: \n",
    "        return True \n",
    "    else: \n",
    "        return False\n",
    "  \n",
    " \n",
    "string1 = str(input(\"Enter the first string: \"))\n",
    "string2 = str(input(\"Enter the second string: \"))\n",
    "  \n",
    "if checkRotation(string1, string2): \n",
    "    print(\"Given Strings are rotations of each other.\")\n",
    "else: \n",
    "    print(\"Given Strings are not rotations of each other.\")"
   ]
  },
  {
   "cell_type": "markdown",
   "id": "495381cf",
   "metadata": {},
   "source": [
    "Q4. Write a program to print the first non-repeated character from a string?"
   ]
  },
  {
   "cell_type": "code",
   "execution_count": 8,
   "id": "277f9dbc",
   "metadata": {},
   "outputs": [
    {
     "name": "stdout",
     "output_type": "stream",
     "text": [
      "P\n",
      "H\n",
      "S\n"
     ]
    }
   ],
   "source": [
    "def func1(str1):\n",
    "    char_order = []\n",
    "    counts = {}\n",
    "    for c in str1:\n",
    "        if c in counts:\n",
    "            counts[c] += 1\n",
    "        else:\n",
    "            counts[c] = 1\n",
    "            char_order.append(c)\n",
    "    for c in char_order:\n",
    "        if counts[c] == 1:\n",
    "             return c\n",
    "    return None\n",
    "\n",
    "print(func1('Pneumonoultramicroscopicsilicovolcanoconiosis'))\n",
    "print(func1('Hippopotomonstrosesquippedaliophobia'))\n",
    "print(func1('Supercalifragilisticexpialidocious'))"
   ]
  },
  {
   "cell_type": "markdown",
   "id": "24dc3c65",
   "metadata": {},
   "source": [
    "Q5.Read about the Tower of Hanoi algorithm. Write a program to implement it."
   ]
  },
  {
   "cell_type": "code",
   "execution_count": 11,
   "id": "054478b5",
   "metadata": {},
   "outputs": [
    {
     "name": "stdout",
     "output_type": "stream",
     "text": [
      "Move disk 1 from rod A to rod C\n",
      "Move disk 2 from rod A to rod B\n",
      "Move disk 1 from rod C to rod B\n",
      "Move disk 3 from rod A to rod C\n",
      "Move disk 1 from rod B to rod A\n",
      "Move disk 2 from rod B to rod C\n",
      "Move disk 1 from rod A to rod C\n"
     ]
    }
   ],
   "source": [
    "def TowerOfHanoi(n , from_rod, to_rod, aux_rod):\n",
    "    if n == 1:\n",
    "        print (\"Move disk 1 from rod\",from_rod,\"to rod\",to_rod)\n",
    "        return\n",
    "    TowerOfHanoi(n-1, from_rod, aux_rod, to_rod)\n",
    "    print (\"Move disk\",n,\"from rod\",from_rod,\"to rod\",to_rod)\n",
    "    TowerOfHanoi(n-1, aux_rod, to_rod, from_rod)\n",
    "n = 3\n",
    "TowerOfHanoi(n, 'A', 'C', 'B')\n",
    "# A, B, C are the rod\n"
   ]
  },
  {
   "cell_type": "markdown",
   "id": "5c1e340d",
   "metadata": {},
   "source": [
    "Q6. Read about infix, prefix, and postfix expressions. Write a program to convert postfix to prefix expression"
   ]
  },
  {
   "cell_type": "code",
   "execution_count": 18,
   "id": "57b333e7",
   "metadata": {},
   "outputs": [
    {
     "name": "stdout",
     "output_type": "stream",
     "text": [
      "Enter postfix expression: abc+-\n",
      "prefix expression:  -a+bc\n"
     ]
    }
   ],
   "source": [
    "def push(x):\n",
    "    global stack \n",
    "    global top\n",
    "    top+=1\n",
    "    stack[top]=x\n",
    "def pop():\n",
    "    global stack\n",
    "    global top\n",
    "    x=stack[top]\n",
    "    top-=1\n",
    "    return x\n",
    "def isop(x):\n",
    "    if x=='+' or x=='-' or x=='*' or x=='/':\n",
    "        return True\n",
    "    else:\n",
    "        return False\n",
    "def conversion():\n",
    "    global stack\n",
    "    global top\n",
    "    l=len(exp)\n",
    "    for i in range (0,l):\n",
    "        if isop(exp[i])== True:\n",
    "            op1= stack[top]\n",
    "            pop()\n",
    "            op2= stack[top]\n",
    "            pop()\n",
    "            tmp=exp[i]+op2+op1\n",
    "            push(tmp)\n",
    "        else:\n",
    "            push(exp[i])\n",
    "    print(\"prefix expression: \", stack[top])\n",
    "    \n",
    "stack=[]\n",
    "top=-1\n",
    "exp=input(\"Enter postfix expression: \")\n",
    "for i in range(50):\n",
    "    stack.append(0)\n",
    "conversion()"
   ]
  },
  {
   "cell_type": "markdown",
   "id": "29529939",
   "metadata": {},
   "source": [
    "Q7. Write a program to convert prefix expression to infix expression."
   ]
  },
  {
   "cell_type": "code",
   "execution_count": 8,
   "id": "62cc9b51",
   "metadata": {},
   "outputs": [
    {
     "name": "stdout",
     "output_type": "stream",
     "text": [
      "((A-(B+C))*((A*K)-L))\n"
     ]
    }
   ],
   "source": [
    "\n",
    "def conversion(prefix):\n",
    "    stack = []\n",
    "\n",
    "\n",
    "    i = len(prefix) - 1\n",
    "    while i >= 0:\n",
    "        if not isop(prefix[i]):\n",
    "\n",
    "\n",
    "            stack.append(prefix[i])\n",
    "            i -= 1\n",
    "        else:\n",
    "\n",
    "\n",
    "            str = \"(\" + stack.pop() + prefix[i] + stack.pop() + \")\"\n",
    "            stack.append(str)\n",
    "            i -= 1\n",
    "\n",
    "    return stack.pop()\n",
    "\n",
    "def isop(x):\n",
    "    if x == \"*\" or x == \"+\" or x == \"-\" or x == \"/\" or x == \"^\" or x == \"(\" or x == \")\":\n",
    "        return True\n",
    "    else:\n",
    "        return False\n",
    "\n",
    "\n",
    "if __name__==\"__main__\":\n",
    "    str = \"*-A+BC-*AKL\"\n",
    "    print(conversion(str))\n",
    "    \n",
    "\n"
   ]
  },
  {
   "cell_type": "markdown",
   "id": "fa442428",
   "metadata": {},
   "source": [
    "Q8. Write a program to check if all the brackets are closed in a given code snippet."
   ]
  },
  {
   "cell_type": "code",
   "execution_count": 9,
   "id": "9400fbf9",
   "metadata": {},
   "outputs": [
    {
     "name": "stdout",
     "output_type": "stream",
     "text": [
      "Balanced\n"
     ]
    }
   ],
   "source": [
    "\n",
    "def check(expr):\n",
    "    stack = []\n",
    "\n",
    "\n",
    "    for char in expr:\n",
    "        if char in [\"(\", \"{\", \"[\"]:\n",
    "\n",
    "\n",
    "            stack.append(char)\n",
    "        else:\n",
    "\n",
    "\n",
    "            if not stack:\n",
    "                return False\n",
    "            current_char = stack.pop()\n",
    "            if current_char == '(':\n",
    "                if char != \")\":\n",
    "                    return False\n",
    "            if current_char == '{':\n",
    "                if char != \"}\":\n",
    "                    return False\n",
    "            if current_char == '[':\n",
    "                if char != \"]\":\n",
    "                    return False\n",
    "\n",
    "        \n",
    "    if stack:\n",
    "        return False\n",
    "    return True\n",
    "\n",
    "\n",
    "if __name__ == \"__main__\":\n",
    "    expr = \"{()}[]\"\n",
    "\n",
    "\n",
    "    if check(expr):\n",
    "        print(\"Balanced\")\n",
    "    else:\n",
    "        print(\"Not Balanced\")"
   ]
  },
  {
   "cell_type": "markdown",
   "id": "d438c1eb",
   "metadata": {},
   "source": [
    "Q9. Write a program to reverse a stack."
   ]
  },
  {
   "cell_type": "code",
   "execution_count": 11,
   "id": "3b4b8a55",
   "metadata": {},
   "outputs": [
    {
     "name": "stdout",
     "output_type": "stream",
     "text": [
      "Enter a string to be reversed: Tartaglia\n",
      "Reversed string is: ailgatraT\n"
     ]
    }
   ],
   "source": [
    "class  Stack_to_reverse  :\n",
    "   \n",
    "    def __init__(  self  ):\n",
    "        self.items  =  list()\n",
    "        self.size=-1\n",
    " \n",
    "    \n",
    "    def  isEmpty(  self  ):\n",
    "        if(self.size==-1):\n",
    "            return True\n",
    "        else:\n",
    "            return False\n",
    " \n",
    "    \n",
    "    def  pop(  self  ):\n",
    "        if  self.isEmpty():\n",
    "            print(\"Stack is empty\")\n",
    "        else:\n",
    "            return self.items.pop()\n",
    "            self.size-=1\n",
    " \n",
    "    \n",
    "    def  push(  self,  item  ):\n",
    "        self.items.append(item)\n",
    "        self.size+=1\n",
    " \n",
    "    def reverse(self,string):\n",
    "        n = len(string)\n",
    " \n",
    " \n",
    "        for i in range(0,n):\n",
    "            S.push(string[i])\n",
    " \n",
    " \n",
    "        string=\"\"\n",
    " \n",
    " \n",
    " \n",
    "        for i in range(0,n):\n",
    "            string+=S.pop()\n",
    "        return string\n",
    "\n",
    "S =Stack_to_reverse()\n",
    "seq=input(\"Enter a string to be reversed: \")\n",
    "sequence = S.reverse(seq)\n",
    "print(\"Reversed string is: \" + sequence)\n"
   ]
  },
  {
   "cell_type": "markdown",
   "id": "3d582b09",
   "metadata": {},
   "source": [
    "Q10. Write a program to find the smallest number using a stack."
   ]
  },
  {
   "cell_type": "code",
   "execution_count": 43,
   "id": "d0d28dbc",
   "metadata": {},
   "outputs": [
    {
     "name": "stdout",
     "output_type": "stream",
     "text": [
      "-3\n"
     ]
    }
   ],
   "source": [
    "class MinStack(object):\n",
    "    min=float('inf')\n",
    "        \n",
    "    def __init__(self):\n",
    "            self.min=float('inf')\n",
    "            self.stack = []\n",
    "\n",
    "    def push(self, x):\n",
    "        if x<=self.min:\n",
    "            self.stack.append(self.min)\n",
    "            self.min = x\n",
    "            self.stack.append(x)\n",
    "\n",
    "    def pop(self):\n",
    "        t = self.stack[-1]\n",
    "        self.stack.pop()\n",
    "        if self.min == t:\n",
    "            self.min = self.stack[-1]\n",
    "            self.stack.pop()\n",
    "\n",
    "    def top(self):\n",
    "          return self.stack[-1]\n",
    "\n",
    "    def getMin(self):\n",
    "          return self.min\n",
    "\n",
    "    \n",
    "m = MinStack()\n",
    "m.push(-2)\n",
    "m.push(0)\n",
    "m.push(-3)\n",
    "print(m.getMin())"
   ]
  },
  {
   "cell_type": "code",
   "execution_count": null,
   "id": "27234413",
   "metadata": {},
   "outputs": [],
   "source": []
  }
 ],
 "metadata": {
  "kernelspec": {
   "display_name": "Python 3",
   "language": "python",
   "name": "python3"
  },
  "language_info": {
   "codemirror_mode": {
    "name": "ipython",
    "version": 3
   },
   "file_extension": ".py",
   "mimetype": "text/x-python",
   "name": "python",
   "nbconvert_exporter": "python",
   "pygments_lexer": "ipython3",
   "version": "3.8.8"
  }
 },
 "nbformat": 4,
 "nbformat_minor": 5
}
