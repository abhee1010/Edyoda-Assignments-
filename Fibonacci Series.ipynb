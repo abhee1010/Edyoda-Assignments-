{
 "cells": [
  {
   "cell_type": "markdown",
   "id": "5d5d72de",
   "metadata": {},
   "source": [
    "# Q.1- Fibonacci Series between 0 to 50"
   ]
  },
  {
   "cell_type": "code",
   "execution_count": 2,
   "id": "5d02c65b",
   "metadata": {},
   "outputs": [
    {
     "name": "stdout",
     "output_type": "stream",
     "text": [
      "1\n",
      "2\n",
      "4\n",
      "8\n",
      "16\n",
      "32\n"
     ]
    }
   ],
   "source": [
    "x=0                   #first number for initialisation \n",
    "y=1                   #second number \n",
    "\n",
    "while y<=50:            #condition where the last number should be greater/equals to 50 \n",
    "    print(y)\n",
    "    x = y\n",
    "    y= x+y"
   ]
  },
  {
   "cell_type": "markdown",
   "id": "4f975899",
   "metadata": {},
   "source": [
    "# Q.2 - "
   ]
  }
 ],
 "metadata": {
  "kernelspec": {
   "display_name": "Python 3",
   "language": "python",
   "name": "python3"
  },
  "language_info": {
   "codemirror_mode": {
    "name": "ipython",
    "version": 3
   },
   "file_extension": ".py",
   "mimetype": "text/x-python",
   "name": "python",
   "nbconvert_exporter": "python",
   "pygments_lexer": "ipython3",
   "version": "3.8.8"
  }
 },
 "nbformat": 4,
 "nbformat_minor": 5
}
